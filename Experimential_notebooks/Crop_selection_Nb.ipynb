{
 "cells": [
  {
   "cell_type": "code",
   "execution_count": 1,
   "metadata": {},
   "outputs": [],
   "source": [
    "import csv"
   ]
  },
  {
   "cell_type": "code",
   "execution_count": 2,
   "metadata": {},
   "outputs": [],
   "source": [
    "def process_csv(file_path):\n",
    "    \"\"\"\n",
    "    Reads a CSV file, processes the data, and prints sentences based on the data.\n",
    "\n",
    "    Args:\n",
    "        file_path (str): The path to the CSV file.\n",
    "    \"\"\"\n",
    "    output_text = \"\"\n",
    "    try:\n",
    "        with open(file_path, 'r', newline='') as csvfile:\n",
    "            reader = csv.DictReader(csvfile)\n",
    "            for row in reader:\n",
    "                n = row['N']\n",
    "                p = row['P']\n",
    "                k = row['K']\n",
    "                temperature = row['temperature']\n",
    "                humidity = row['humidity']\n",
    "                ph = row['ph']\n",
    "                rainfall = row['rainfall']\n",
    "                label = row['label']\n",
    "\n",
    "                sentence = f\"If N = {n}, P = {p}, K = {k}, and temperature is {temperature}, humidity is {humidity}, ph is {ph}, rainfall is {rainfall}, then {label} should be plant on that specific time\"\n",
    "                output_text += \"\\n\" + sentence\n",
    "\n",
    "    except FileNotFoundError:\n",
    "        print(f\"Error: File '{file_path}' not found.\")\n",
    "    except Exception as e:\n",
    "        print(f\"An error occurred: {e}\")\n",
    "    return output_text"
   ]
  },
  {
   "cell_type": "code",
   "execution_count": 5,
   "metadata": {},
   "outputs": [
    {
     "data": {
      "text/plain": [
       "398588"
      ]
     },
     "execution_count": 5,
     "metadata": {},
     "output_type": "execute_result"
    }
   ],
   "source": [
    "# Example usage:\n",
    "file_path = 'Crop_recommendation.csv'  # Replace 'your_data.csv' with the actual file path\n",
    "text = process_csv(file_path)\n",
    "file = open(\"crop_selection_guide.txt\", \"w\")\n",
    "file.write(text)"
   ]
  }
 ],
 "metadata": {
  "kernelspec": {
   "display_name": "Python 3",
   "language": "python",
   "name": "python3"
  },
  "language_info": {
   "codemirror_mode": {
    "name": "ipython",
    "version": 3
   },
   "file_extension": ".py",
   "mimetype": "text/x-python",
   "name": "python",
   "nbconvert_exporter": "python",
   "pygments_lexer": "ipython3",
   "version": "3.13.2"
  }
 },
 "nbformat": 4,
 "nbformat_minor": 2
}
