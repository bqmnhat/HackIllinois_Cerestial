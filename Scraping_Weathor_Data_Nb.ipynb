{
 "cells": [
  {
   "cell_type": "code",
   "execution_count": 12,
   "metadata": {},
   "outputs": [],
   "source": [
    "from openmeteopy import OpenMeteo\n",
    "from openmeteopy.options import EcmwfOptions\n",
    "from openmeteopy.hourly import HourlyEcmwf\n",
    "from openmeteopy.utils.constants import *\n",
    "import json\n",
    "import openmeteo_requests\n",
    "import requests_cache\n",
    "import pandas as pd\n",
    "from retry_requests import retry"
   ]
  },
  {
   "cell_type": "code",
   "execution_count": 2,
   "metadata": {},
   "outputs": [],
   "source": [
    "# Latitude, Longitude \n",
    "latitude =  40\n",
    "longitude = -88\n",
    "\n",
    "# Set a class to specify hourly forecasts for the ECMWF provider\n",
    "hourly = HourlyEcmwf()\n",
    "\n",
    "# Set the variables that you want to retrieve adding it to the hourly class\n",
    "hourly = hourly.windspeed_10m()\n",
    "hourly = hourly.temperature_300hpa()\n",
    "hourly = hourly.cloudcover()\n",
    "\n",
    "# Set options to get specific forecasts days and coordinates\n",
    "options = EcmwfOptions(latitude,\n",
    "                       longitude,\n",
    "                       forecast_days=3)\n",
    "\n",
    "# Set the OpenMeteo client to fetch data\n",
    "client = OpenMeteo(options, hourly=hourly)"
   ]
  },
  {
   "cell_type": "code",
   "execution_count": 7,
   "metadata": {},
   "outputs": [
    {
     "name": "stdout",
     "output_type": "stream",
     "text": [
      "None\n"
     ]
    }
   ],
   "source": [
    "res_json = client.save_json('hourly_weather.json')\n",
    "print(res_json)"
   ]
  },
  {
   "cell_type": "code",
   "execution_count": 37,
   "metadata": {},
   "outputs": [],
   "source": [
    "def get_and_format_weather_text(latitude, longitude):\n",
    "    \"\"\"\n",
    "    Fetches daily weather data from Open-Meteo API and formats it into a text string.\n",
    "\n",
    "    Args:\n",
    "        latitude: Latitude of the location.\n",
    "        longitude: Longitude of the location.\n",
    "\n",
    "    Returns:\n",
    "        A text string containing the formatted weather forecast.\n",
    "    \"\"\"\n",
    "    try:\n",
    "        # Setup the Open-Meteo API client with cache and retry on error\n",
    "        cache_session = requests_cache.CachedSession('.cache', expire_after=3600)\n",
    "        retry_session = retry(cache_session, retries=5, backoff_factor=0.2)\n",
    "        openmeteo = openmeteo_requests.Client(session=retry_session)\n",
    "\n",
    "        url = \"https://api.open-meteo.com/v1/forecast\"\n",
    "        params = {\n",
    "            \"latitude\": latitude,\n",
    "            \"longitude\": longitude,\n",
    "            \"daily\": [\"temperature_2m_max\", \"temperature_2m_min\", \"sunrise\", \"sunset\", \"daylight_duration\", \"sunshine_duration\", \"precipitation_sum\", \"wind_speed_10m_max\"],\n",
    "            \"timezone\": \"America/Chicago\",\n",
    "            \"forecast_days\": 10\n",
    "        }\n",
    "        responses = openmeteo.weather_api(url, params=params)\n",
    "\n",
    "        response = responses[0]\n",
    "\n",
    "        text_output = f\"Weather Forecast for\\n\"\n",
    "        text_output += f\"Timezone: {response.Timezone()} {response.TimezoneAbbreviation()}\\n\"\n",
    "        text_output += f\"Unit: Temperature - Celsius; daylight or sunshine duration - seconds; precipitation - mm; Wind Speed - m/s\\n\"\n",
    "\n",
    "        daily = response.Daily()\n",
    "        daily_temperature_2m_max = daily.Variables(0).ValuesAsNumpy()\n",
    "        daily_temperature_2m_min = daily.Variables(1).ValuesAsNumpy()\n",
    "        daily_sunrise = daily.Variables(2).ValuesAsNumpy()\n",
    "        daily_sunset = daily.Variables(3).ValuesAsNumpy()\n",
    "        daily_daylight_duration = daily.Variables(4).ValuesAsNumpy()\n",
    "        daily_sunshine_duration = daily.Variables(5).ValuesAsNumpy()\n",
    "        daily_precipitation_sum = daily.Variables(6).ValuesAsNumpy()\n",
    "        daily_wind_speed_10m_max = daily.Variables(7).ValuesAsNumpy()\n",
    "\n",
    "        daily_data = {\"date\": pd.date_range(\n",
    "            start = pd.to_datetime(daily.Time(), unit = \"s\", utc = True),\n",
    "            end = pd.to_datetime(daily.TimeEnd(), unit = \"s\", utc = True),\n",
    "            freq = pd.Timedelta(seconds = daily.Interval()),\n",
    "            inclusive = \"left\"\n",
    "        )}\n",
    "\n",
    "        daily_data[\"temperature_2m_max\"] = daily_temperature_2m_max\n",
    "        daily_data[\"temperature_2m_min\"] = daily_temperature_2m_min\n",
    "        daily_data[\"sunrise\"] = daily_sunrise\n",
    "        daily_data[\"sunset\"] = daily_sunset\n",
    "        daily_data[\"daylight_duration\"] = daily_daylight_duration\n",
    "        daily_data[\"sunshine_duration\"] = daily_sunshine_duration\n",
    "        daily_data[\"precipitation_sum\"] = daily_precipitation_sum\n",
    "        daily_data[\"wind_speed_10m_max\"] = daily_wind_speed_10m_max\n",
    "\n",
    "        df = pd.DataFrame(daily_data)\n",
    "        for index, row in df.iterrows():\n",
    "            date = row['date'].strftime('%Y-%m-%d')\n",
    "            text_output += f\"Date: {date}\\n\"\n",
    "            text_output += f\"  Max Temperature: {row['temperature_2m_max']}\\n\"\n",
    "            text_output += f\"  Min Temperature: {row['temperature_2m_min']}\\n\"\n",
    "            text_output += f\"  Daylight Duration: {row['daylight_duration']}\\n\"\n",
    "            text_output += f\"  Sunshine Duration: {row['sunshine_duration']}\\n\"\n",
    "            text_output += f\"  Precipitation: {row['precipitation_sum']}\\n\"\n",
    "            text_output += f\"  Max Wind Speed: {row['wind_speed_10m_max']}\\n\"\n",
    "\n",
    "        return text_output\n",
    "\n",
    "    except Exception as e:\n",
    "        return f\"An error occurred: {e}\""
   ]
  },
  {
   "cell_type": "code",
   "execution_count": 38,
   "metadata": {},
   "outputs": [
    {
     "data": {
      "text/plain": [
       "\"Weather Forecast for\\nTimezone: b'America/Chicago' b'GMT-6'\\nUnit: Temperature - Celsius; daylight or sunshine duration - seconds; precipitation - mm; Wind Speed - m/s\\nDate: 2025-02-28\\n  Max Temperature: 19.23699951171875\\n  Min Temperature: -0.06300000101327896\\n  Daylight Duration: 40618.13671875\\n  Sunshine Duration: 36629.3515625\\n  Precipitation: 0.0\\n  Max Wind Speed: 45.62351608276367\\nDate: 2025-03-01\\n  Max Temperature: 2.687000036239624\\n  Min Temperature: -5.7129998207092285\\n  Daylight Duration: 40775.37109375\\n  Sunshine Duration: 18000.0\\n  Precipitation: 0.0\\n  Max Wind Speed: 30.752090454101562\\nDate: 2025-03-02\\n  Max Temperature: 4.599999904632568\\n  Min Temperature: -9.012999534606934\\n  Daylight Duration: 40932.6640625\\n  Sunshine Duration: 37303.75390625\\n  Precipitation: 0.0\\n  Max Wind Speed: 15.480000495910645\\nDate: 2025-03-03\\n  Max Temperature: 4.849999904632568\\n  Min Temperature: -0.5\\n  Daylight Duration: 41089.890625\\n  Sunshine Duration: 5358.73388671875\\n  Precipitation: 0.10000000149011612\\n  Max Wind Speed: 20.268991470336914\\nDate: 2025-03-04\\n  Max Temperature: 13.449999809265137\\n  Min Temperature: 4.949999809265137\\n  Daylight Duration: 41246.94140625\\n  Sunshine Duration: 581.601318359375\\n  Precipitation: 22.200000762939453\\n  Max Wind Speed: 39.12257385253906\\nDate: 2025-03-05\\n  Max Temperature: 10.600000381469727\\n  Min Temperature: -0.5\\n  Daylight Duration: 41403.6953125\\n  Sunshine Duration: 15910.73046875\\n  Precipitation: 0.10000000149011612\\n  Max Wind Speed: 40.07658767700195\\nDate: 2025-03-06\\n  Max Temperature: 5.849999904632568\\n  Min Temperature: -1.4500000476837158\\n  Daylight Duration: 41560.03515625\\n  Sunshine Duration: 38147.4609375\\n  Precipitation: 0.0\\n  Max Wind Speed: 36.34573745727539\\nDate: 2025-03-07\\n  Max Temperature: 5.849999904632568\\n  Min Temperature: 0.6499999761581421\\n  Daylight Duration: 41715.8515625\\n  Sunshine Duration: 2357.01806640625\\n  Precipitation: 3.500000238418579\\n  Max Wind Speed: 24.079666137695312\\nDate: 2025-03-08\\n  Max Temperature: 4.25\\n  Min Temperature: -0.550000011920929\\n  Daylight Duration: 41871.51953125\\n  Sunshine Duration: 30332.025390625\\n  Precipitation: 0.7000000476837158\\n  Max Wind Speed: 29.973106384277344\\nDate: 2025-03-09\\n  Max Temperature: 4.75\\n  Min Temperature: -1.0499999523162842\\n  Daylight Duration: 42028.11328125\\n  Sunshine Duration: 37956.5078125\\n  Precipitation: 0.0\\n  Max Wind Speed: 24.575109481811523\\n\""
      ]
     },
     "execution_count": 38,
     "metadata": {},
     "output_type": "execute_result"
    }
   ],
   "source": [
    "latitude = 40\n",
    "longitude = -88\n",
    "weather_text = get_and_format_weather_text(latitude, longitude)\n",
    "weather_text"
   ]
  },
  {
   "cell_type": "code",
   "execution_count": 39,
   "metadata": {},
   "outputs": [],
   "source": [
    "file = open('weather_updating_context.txt', 'w') \n",
    "file.write(weather_text) \n",
    "file.close()"
   ]
  }
 ],
 "metadata": {
  "kernelspec": {
   "display_name": "Python 3",
   "language": "python",
   "name": "python3"
  },
  "language_info": {
   "codemirror_mode": {
    "name": "ipython",
    "version": 3
   },
   "file_extension": ".py",
   "mimetype": "text/x-python",
   "name": "python",
   "nbconvert_exporter": "python",
   "pygments_lexer": "ipython3",
   "version": "3.13.2"
  }
 },
 "nbformat": 4,
 "nbformat_minor": 2
}
